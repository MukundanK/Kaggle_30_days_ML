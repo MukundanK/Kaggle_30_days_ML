{
 "cells": [
  {
   "cell_type": "code",
   "execution_count": 10,
   "id": "9987825b-082c-4fcb-bda4-bebd03799d40",
   "metadata": {},
   "outputs": [],
   "source": [
    "%config Completer.use_jedi = False"
   ]
  },
  {
   "cell_type": "code",
   "execution_count": 30,
   "id": "35b6700a-e4ea-45f0-88a8-4965bfcd9799",
   "metadata": {},
   "outputs": [
    {
     "name": "stdout",
     "output_type": "stream",
     "text": [
      "Collecting category_encoders\n",
      "  Downloading category_encoders-2.2.2-py2.py3-none-any.whl (80 kB)\n",
      "\u001b[K     |████████████████████████████████| 80 kB 5.0 MB/s eta 0:00:011\n",
      "\u001b[?25hRequirement already satisfied: numpy>=1.14.0 in /Applications/anaconda3/lib/python3.7/site-packages (from category_encoders) (1.19.2)\n",
      "Requirement already satisfied: pandas>=0.21.1 in /Applications/anaconda3/lib/python3.7/site-packages (from category_encoders) (1.2.4)\n",
      "Requirement already satisfied: patsy>=0.5.1 in /Applications/anaconda3/lib/python3.7/site-packages (from category_encoders) (0.5.1)\n",
      "Requirement already satisfied: statsmodels>=0.9.0 in /Applications/anaconda3/lib/python3.7/site-packages (from category_encoders) (0.12.2)\n",
      "Requirement already satisfied: scikit-learn>=0.20.0 in /Applications/anaconda3/lib/python3.7/site-packages (from category_encoders) (0.24.1)\n",
      "Requirement already satisfied: scipy>=1.0.0 in /Applications/anaconda3/lib/python3.7/site-packages (from category_encoders) (1.6.2)\n",
      "Requirement already satisfied: python-dateutil>=2.7.3 in /Applications/anaconda3/lib/python3.7/site-packages (from pandas>=0.21.1->category_encoders) (2.8.1)\n",
      "Requirement already satisfied: pytz>=2017.3 in /Applications/anaconda3/lib/python3.7/site-packages (from pandas>=0.21.1->category_encoders) (2021.1)\n",
      "Requirement already satisfied: six in /Applications/anaconda3/lib/python3.7/site-packages (from patsy>=0.5.1->category_encoders) (1.15.0)\n",
      "Requirement already satisfied: threadpoolctl>=2.0.0 in /Applications/anaconda3/lib/python3.7/site-packages (from scikit-learn>=0.20.0->category_encoders) (2.1.0)\n",
      "Requirement already satisfied: joblib>=0.11 in /Applications/anaconda3/lib/python3.7/site-packages (from scikit-learn>=0.20.0->category_encoders) (1.0.1)\n",
      "Installing collected packages: category-encoders\n",
      "Successfully installed category-encoders-2.2.2\n"
     ]
    }
   ],
   "source": [
    "! pip install category_encoders"
   ]
  },
  {
   "cell_type": "code",
   "execution_count": 151,
   "id": "e9f16145-e5e6-4b30-8326-77a54c04854d",
   "metadata": {},
   "outputs": [],
   "source": [
    "# import \n",
    "\n",
    "import pandas as pd\n",
    "import matplotlib.pyplot as plt\n",
    "import numpy as np\n",
    "from sklearn.pipeline import Pipeline\n",
    "from category_encoders import BinaryEncoder, OneHotEncoder, OrdinalEncoder\n",
    "from xgboost import XGBRegressor\n",
    "from sklearn.compose import ColumnTransformer\n",
    "from sklearn.model_selection import train_test_split\n",
    "from sklearn.metrics import mean_squared_error\n",
    "from scipy.stats import spearmanr\n",
    "from sklearn.preprocessing import FunctionTransformer"
   ]
  },
  {
   "cell_type": "code",
   "execution_count": 2,
   "id": "9d978a36-b5b5-4827-8a8c-3081e496eaa4",
   "metadata": {},
   "outputs": [],
   "source": [
    "# read data\n",
    "\n",
    "train = pd.read_csv('../input/train.csv')"
   ]
  },
  {
   "cell_type": "code",
   "execution_count": 3,
   "id": "2aa84d01-d6c8-45fb-9937-111b0664121e",
   "metadata": {},
   "outputs": [
    {
     "data": {
      "text/html": [
       "<div>\n",
       "<style scoped>\n",
       "    .dataframe tbody tr th:only-of-type {\n",
       "        vertical-align: middle;\n",
       "    }\n",
       "\n",
       "    .dataframe tbody tr th {\n",
       "        vertical-align: top;\n",
       "    }\n",
       "\n",
       "    .dataframe thead th {\n",
       "        text-align: right;\n",
       "    }\n",
       "</style>\n",
       "<table border=\"1\" class=\"dataframe\">\n",
       "  <thead>\n",
       "    <tr style=\"text-align: right;\">\n",
       "      <th></th>\n",
       "      <th>id</th>\n",
       "      <th>cat0</th>\n",
       "      <th>cat1</th>\n",
       "      <th>cat2</th>\n",
       "      <th>cat3</th>\n",
       "      <th>cat4</th>\n",
       "      <th>cat5</th>\n",
       "      <th>cat6</th>\n",
       "      <th>cat7</th>\n",
       "      <th>cat8</th>\n",
       "      <th>...</th>\n",
       "      <th>cont5</th>\n",
       "      <th>cont6</th>\n",
       "      <th>cont7</th>\n",
       "      <th>cont8</th>\n",
       "      <th>cont9</th>\n",
       "      <th>cont10</th>\n",
       "      <th>cont11</th>\n",
       "      <th>cont12</th>\n",
       "      <th>cont13</th>\n",
       "      <th>target</th>\n",
       "    </tr>\n",
       "  </thead>\n",
       "  <tbody>\n",
       "    <tr>\n",
       "      <th>0</th>\n",
       "      <td>1</td>\n",
       "      <td>B</td>\n",
       "      <td>B</td>\n",
       "      <td>B</td>\n",
       "      <td>C</td>\n",
       "      <td>B</td>\n",
       "      <td>B</td>\n",
       "      <td>A</td>\n",
       "      <td>E</td>\n",
       "      <td>C</td>\n",
       "      <td>...</td>\n",
       "      <td>0.400361</td>\n",
       "      <td>0.160266</td>\n",
       "      <td>0.310921</td>\n",
       "      <td>0.389470</td>\n",
       "      <td>0.267559</td>\n",
       "      <td>0.237281</td>\n",
       "      <td>0.377873</td>\n",
       "      <td>0.322401</td>\n",
       "      <td>0.869850</td>\n",
       "      <td>8.113634</td>\n",
       "    </tr>\n",
       "    <tr>\n",
       "      <th>1</th>\n",
       "      <td>2</td>\n",
       "      <td>B</td>\n",
       "      <td>B</td>\n",
       "      <td>A</td>\n",
       "      <td>A</td>\n",
       "      <td>B</td>\n",
       "      <td>D</td>\n",
       "      <td>A</td>\n",
       "      <td>F</td>\n",
       "      <td>A</td>\n",
       "      <td>...</td>\n",
       "      <td>0.533087</td>\n",
       "      <td>0.558922</td>\n",
       "      <td>0.516294</td>\n",
       "      <td>0.594928</td>\n",
       "      <td>0.341439</td>\n",
       "      <td>0.906013</td>\n",
       "      <td>0.921701</td>\n",
       "      <td>0.261975</td>\n",
       "      <td>0.465083</td>\n",
       "      <td>8.481233</td>\n",
       "    </tr>\n",
       "    <tr>\n",
       "      <th>2</th>\n",
       "      <td>3</td>\n",
       "      <td>A</td>\n",
       "      <td>A</td>\n",
       "      <td>A</td>\n",
       "      <td>C</td>\n",
       "      <td>B</td>\n",
       "      <td>D</td>\n",
       "      <td>A</td>\n",
       "      <td>D</td>\n",
       "      <td>A</td>\n",
       "      <td>...</td>\n",
       "      <td>0.650609</td>\n",
       "      <td>0.375348</td>\n",
       "      <td>0.902567</td>\n",
       "      <td>0.555205</td>\n",
       "      <td>0.843531</td>\n",
       "      <td>0.748809</td>\n",
       "      <td>0.620126</td>\n",
       "      <td>0.541474</td>\n",
       "      <td>0.763846</td>\n",
       "      <td>8.364351</td>\n",
       "    </tr>\n",
       "    <tr>\n",
       "      <th>3</th>\n",
       "      <td>4</td>\n",
       "      <td>B</td>\n",
       "      <td>B</td>\n",
       "      <td>A</td>\n",
       "      <td>C</td>\n",
       "      <td>B</td>\n",
       "      <td>D</td>\n",
       "      <td>A</td>\n",
       "      <td>E</td>\n",
       "      <td>C</td>\n",
       "      <td>...</td>\n",
       "      <td>0.668980</td>\n",
       "      <td>0.239061</td>\n",
       "      <td>0.732948</td>\n",
       "      <td>0.679618</td>\n",
       "      <td>0.574844</td>\n",
       "      <td>0.346010</td>\n",
       "      <td>0.714610</td>\n",
       "      <td>0.540150</td>\n",
       "      <td>0.280682</td>\n",
       "      <td>8.049253</td>\n",
       "    </tr>\n",
       "    <tr>\n",
       "      <th>4</th>\n",
       "      <td>6</td>\n",
       "      <td>A</td>\n",
       "      <td>A</td>\n",
       "      <td>A</td>\n",
       "      <td>C</td>\n",
       "      <td>B</td>\n",
       "      <td>D</td>\n",
       "      <td>A</td>\n",
       "      <td>E</td>\n",
       "      <td>A</td>\n",
       "      <td>...</td>\n",
       "      <td>0.686964</td>\n",
       "      <td>0.420667</td>\n",
       "      <td>0.648182</td>\n",
       "      <td>0.684501</td>\n",
       "      <td>0.956692</td>\n",
       "      <td>1.000773</td>\n",
       "      <td>0.776742</td>\n",
       "      <td>0.625849</td>\n",
       "      <td>0.250823</td>\n",
       "      <td>7.972260</td>\n",
       "    </tr>\n",
       "  </tbody>\n",
       "</table>\n",
       "<p>5 rows × 26 columns</p>\n",
       "</div>"
      ],
      "text/plain": [
       "   id cat0 cat1 cat2 cat3 cat4 cat5 cat6 cat7 cat8  ...     cont5     cont6  \\\n",
       "0   1    B    B    B    C    B    B    A    E    C  ...  0.400361  0.160266   \n",
       "1   2    B    B    A    A    B    D    A    F    A  ...  0.533087  0.558922   \n",
       "2   3    A    A    A    C    B    D    A    D    A  ...  0.650609  0.375348   \n",
       "3   4    B    B    A    C    B    D    A    E    C  ...  0.668980  0.239061   \n",
       "4   6    A    A    A    C    B    D    A    E    A  ...  0.686964  0.420667   \n",
       "\n",
       "      cont7     cont8     cont9    cont10    cont11    cont12    cont13  \\\n",
       "0  0.310921  0.389470  0.267559  0.237281  0.377873  0.322401  0.869850   \n",
       "1  0.516294  0.594928  0.341439  0.906013  0.921701  0.261975  0.465083   \n",
       "2  0.902567  0.555205  0.843531  0.748809  0.620126  0.541474  0.763846   \n",
       "3  0.732948  0.679618  0.574844  0.346010  0.714610  0.540150  0.280682   \n",
       "4  0.648182  0.684501  0.956692  1.000773  0.776742  0.625849  0.250823   \n",
       "\n",
       "     target  \n",
       "0  8.113634  \n",
       "1  8.481233  \n",
       "2  8.364351  \n",
       "3  8.049253  \n",
       "4  7.972260  \n",
       "\n",
       "[5 rows x 26 columns]"
      ]
     },
     "execution_count": 3,
     "metadata": {},
     "output_type": "execute_result"
    }
   ],
   "source": [
    "train.head()"
   ]
  },
  {
   "cell_type": "code",
   "execution_count": 53,
   "id": "da63821d-192c-472a-8855-3e61b202a1c4",
   "metadata": {},
   "outputs": [],
   "source": [
    "# Split train into features and target\n",
    "\n",
    "X_train_full = train.drop(columns=['id','target']).copy()\n",
    "y_train_full = train.target"
   ]
  },
  {
   "cell_type": "code",
   "execution_count": 54,
   "id": "663c18ff-dafc-4989-9df6-257c9c74acfd",
   "metadata": {},
   "outputs": [
    {
     "data": {
      "text/plain": [
       "cat0      0\n",
       "cat1      0\n",
       "cat2      0\n",
       "cat3      0\n",
       "cat4      0\n",
       "cat5      0\n",
       "cat6      0\n",
       "cat7      0\n",
       "cat8      0\n",
       "cat9      0\n",
       "cont0     0\n",
       "cont1     0\n",
       "cont2     0\n",
       "cont3     0\n",
       "cont4     0\n",
       "cont5     0\n",
       "cont6     0\n",
       "cont7     0\n",
       "cont8     0\n",
       "cont9     0\n",
       "cont10    0\n",
       "cont11    0\n",
       "cont12    0\n",
       "cont13    0\n",
       "dtype: int64"
      ]
     },
     "execution_count": 54,
     "metadata": {},
     "output_type": "execute_result"
    }
   ],
   "source": [
    "# null values\n",
    "\n",
    "X_train_full.isnull().sum()"
   ]
  },
  {
   "cell_type": "code",
   "execution_count": 62,
   "id": "7485756c-a83d-47de-baa1-f8bc4353ddd2",
   "metadata": {},
   "outputs": [],
   "source": [
    "# train-test split\n",
    "\n",
    "X_train, X_valid, y_train, y_valid = train_test_split(X_train_full, y_train_full, test_size=0.3, random_state=42)"
   ]
  },
  {
   "cell_type": "code",
   "execution_count": 63,
   "id": "82780f1a-4054-448d-9a94-c28059708231",
   "metadata": {},
   "outputs": [],
   "source": [
    "# categorical cols \n",
    "\n",
    "categorical_cols = [cname for cname in X_train.columns if X_train[cname].dtype == 'object']"
   ]
  },
  {
   "cell_type": "code",
   "execution_count": 64,
   "id": "7e4acaab-f29c-4f9e-acae-a1d4a82e0cc7",
   "metadata": {},
   "outputs": [],
   "source": [
    "# numerical cols\n",
    "\n",
    "numerical_cols = [cname for cname in X_train.columns if X_train[cname].dtype in ['float64','int64']]"
   ]
  },
  {
   "cell_type": "code",
   "execution_count": 65,
   "id": "7491407d-1e1e-4b12-9fce-639dedfb1eb4",
   "metadata": {},
   "outputs": [],
   "source": [
    "# low cardinality categorical columns\n",
    "\n",
    "low_cardinal_categorical_col = [cname for cname in categorical_cols if X_train[cname].nunique() < 10]"
   ]
  },
  {
   "cell_type": "code",
   "execution_count": 66,
   "id": "fe2524c9-4b60-42c6-82af-0fa88b78fde3",
   "metadata": {},
   "outputs": [],
   "source": [
    "# high cardinality categorical columns\n",
    "\n",
    "high_cardinal_categorical_col = [cname for cname in categorical_cols if X_train[cname].nunique() > 10]"
   ]
  },
  {
   "cell_type": "markdown",
   "id": "6eceb768-0045-4436-acf1-e70a957ba0e2",
   "metadata": {},
   "source": [
    "# OneHot Encoding"
   ]
  },
  {
   "cell_type": "code",
   "execution_count": 67,
   "id": "2c5985b8-4e91-440e-970b-65c8a20a629f",
   "metadata": {},
   "outputs": [],
   "source": [
    "# One Hot Encoding for all categorical columns\n",
    "\n",
    "categorical_encoder= OneHotEncoder(handle_unknown='return_nan',return_df=True,use_cat_names=True)"
   ]
  },
  {
   "cell_type": "code",
   "execution_count": 68,
   "id": "60b76ee8-eca5-476f-9f56-139d9ae74201",
   "metadata": {},
   "outputs": [],
   "source": [
    "preprocessor = ColumnTransformer([('cat', categorical_encoder, categorical_cols)], remainder= 'passthrough')"
   ]
  },
  {
   "cell_type": "code",
   "execution_count": 38,
   "id": "5594ad00-6363-415c-9e80-1f0d04d2ca8b",
   "metadata": {},
   "outputs": [],
   "source": [
    "# model\n",
    "\n",
    "model = XGBRegressor() "
   ]
  },
  {
   "cell_type": "code",
   "execution_count": 69,
   "id": "90c6fe15-e5e8-4e86-9f6c-66b61dff25bf",
   "metadata": {},
   "outputs": [],
   "source": [
    "my_pipeline = Pipeline(steps=[('preprocessor', preprocessor), ('model', model)])"
   ]
  },
  {
   "cell_type": "code",
   "execution_count": 70,
   "id": "cc17327d-19d7-4e17-a6f4-92f9b1560ee0",
   "metadata": {},
   "outputs": [
    {
     "name": "stderr",
     "output_type": "stream",
     "text": [
      "/Applications/anaconda3/lib/python3.7/site-packages/category_encoders/utils.py:21: FutureWarning: is_categorical is deprecated and will be removed in a future version.  Use is_categorical_dtype instead\n",
      "  elif pd.api.types.is_categorical(cols):\n"
     ]
    },
    {
     "name": "stdout",
     "output_type": "stream",
     "text": [
      "[13:25:01] WARNING: src/objective/regression_obj.cu:152: reg:linear is now deprecated in favor of reg:squarederror.\n"
     ]
    },
    {
     "data": {
      "text/plain": [
       "Pipeline(steps=[('preprocessor',\n",
       "                 ColumnTransformer(remainder='passthrough',\n",
       "                                   transformers=[('cat',\n",
       "                                                  OneHotEncoder(handle_unknown='return_nan',\n",
       "                                                                use_cat_names=True),\n",
       "                                                  ['cat0', 'cat1', 'cat2',\n",
       "                                                   'cat3', 'cat4', 'cat5',\n",
       "                                                   'cat6', 'cat7', 'cat8',\n",
       "                                                   'cat9'])])),\n",
       "                ('model', XGBRegressor())])"
      ]
     },
     "execution_count": 70,
     "metadata": {},
     "output_type": "execute_result"
    }
   ],
   "source": [
    "my_pipeline.fit(X_train, y_train)"
   ]
  },
  {
   "cell_type": "code",
   "execution_count": 71,
   "id": "627e0313-7323-4efc-ae7a-51b54241810a",
   "metadata": {},
   "outputs": [],
   "source": [
    "pred = my_pipeline.predict(X_valid)"
   ]
  },
  {
   "cell_type": "code",
   "execution_count": 72,
   "id": "31211778-3af8-4f52-9349-dc7ec4a8250e",
   "metadata": {},
   "outputs": [
    {
     "data": {
      "text/plain": [
       "0.5322039221284236"
      ]
     },
     "execution_count": 72,
     "metadata": {},
     "output_type": "execute_result"
    }
   ],
   "source": [
    "mean_squared_error(y_valid, pred)"
   ]
  },
  {
   "cell_type": "markdown",
   "id": "bcbaa2d8-432c-4325-b0bf-b7cf64bd053b",
   "metadata": {},
   "source": [
    "# Binary Encoding"
   ]
  },
  {
   "cell_type": "code",
   "execution_count": 73,
   "id": "4cd6acbe-baa8-414f-97ad-ddf4682ef746",
   "metadata": {},
   "outputs": [],
   "source": [
    "# OneHot encoding for low_cardinality columns, binary encoding for high_cardinality columns\n",
    "\n",
    "low_cardinal_OHE = OneHotEncoder(handle_unknown='return_nan',return_df=True,use_cat_names=True)\n",
    "high_cardinal_Binary = BinaryEncoder(return_df=True)"
   ]
  },
  {
   "cell_type": "code",
   "execution_count": 76,
   "id": "aefd56e4-028d-423d-a5ad-162f8772d97a",
   "metadata": {},
   "outputs": [],
   "source": [
    "preprocessor = ColumnTransformer([('low_cardinal', low_cardinal_OHE, low_cardinal_categorical_col), ('high_cardinal', high_cardinal_Binary, high_cardinal_categorical_col)],remainder='passthrough')"
   ]
  },
  {
   "cell_type": "code",
   "execution_count": 77,
   "id": "2a08b2d0-1380-45c6-b86c-daa004019fc1",
   "metadata": {},
   "outputs": [],
   "source": [
    "my_pipeline = Pipeline(steps=[('preprocessor', preprocessor), ('model', model)])"
   ]
  },
  {
   "cell_type": "code",
   "execution_count": 78,
   "id": "604f2ca9-70f4-4d34-852b-e649ecc3558e",
   "metadata": {},
   "outputs": [
    {
     "name": "stderr",
     "output_type": "stream",
     "text": [
      "/Applications/anaconda3/lib/python3.7/site-packages/category_encoders/utils.py:21: FutureWarning: is_categorical is deprecated and will be removed in a future version.  Use is_categorical_dtype instead\n",
      "  elif pd.api.types.is_categorical(cols):\n",
      "/Applications/anaconda3/lib/python3.7/site-packages/category_encoders/utils.py:21: FutureWarning: is_categorical is deprecated and will be removed in a future version.  Use is_categorical_dtype instead\n",
      "  elif pd.api.types.is_categorical(cols):\n"
     ]
    },
    {
     "name": "stdout",
     "output_type": "stream",
     "text": [
      "[13:37:01] WARNING: src/objective/regression_obj.cu:152: reg:linear is now deprecated in favor of reg:squarederror.\n"
     ]
    },
    {
     "data": {
      "text/plain": [
       "Pipeline(steps=[('preprocessor',\n",
       "                 ColumnTransformer(remainder='passthrough',\n",
       "                                   transformers=[('low_cardinal',\n",
       "                                                  OneHotEncoder(handle_unknown='return_nan',\n",
       "                                                                use_cat_names=True),\n",
       "                                                  ['cat0', 'cat1', 'cat2',\n",
       "                                                   'cat3', 'cat4', 'cat5',\n",
       "                                                   'cat6', 'cat7', 'cat8']),\n",
       "                                                 ('high_cardinal',\n",
       "                                                  BinaryEncoder(),\n",
       "                                                  ['cat9'])])),\n",
       "                ('model', XGBRegressor())])"
      ]
     },
     "execution_count": 78,
     "metadata": {},
     "output_type": "execute_result"
    }
   ],
   "source": [
    "my_pipeline.fit(X_train, y_train)"
   ]
  },
  {
   "cell_type": "code",
   "execution_count": 79,
   "id": "4ebd8567-f8e0-4385-b391-ffee01a38d5e",
   "metadata": {},
   "outputs": [],
   "source": [
    "pred = my_pipeline.predict(X_valid)"
   ]
  },
  {
   "cell_type": "code",
   "execution_count": 80,
   "id": "6fe15a6f-152a-4868-91f2-dfd50b0e957d",
   "metadata": {},
   "outputs": [
    {
     "data": {
      "text/plain": [
       "0.5322039221284236"
      ]
     },
     "execution_count": 80,
     "metadata": {},
     "output_type": "execute_result"
    }
   ],
   "source": [
    "mean_squared_error(y_valid, pred)"
   ]
  },
  {
   "cell_type": "markdown",
   "id": "449f0557-e0b2-47f8-90d7-3b33e85e3ccf",
   "metadata": {},
   "source": [
    "# Ordinal Encoder"
   ]
  },
  {
   "cell_type": "code",
   "execution_count": 81,
   "id": "eaee2c17-258d-4814-ac6d-5aa15b729181",
   "metadata": {},
   "outputs": [],
   "source": [
    "# Ordinal encoding\n",
    "\n",
    "Ordinal_encoder = OrdinalEncoder(return_df=True, handle_unknown='return_nan')"
   ]
  },
  {
   "cell_type": "code",
   "execution_count": 82,
   "id": "ea9d986a-cd08-4748-8872-9c0eccfa5e46",
   "metadata": {},
   "outputs": [],
   "source": [
    "my_pipeline = Pipeline(steps=[('encoder', Ordinal_encoder), ('model', model)])"
   ]
  },
  {
   "cell_type": "code",
   "execution_count": 83,
   "id": "2c974d52-27bf-446c-bbc1-10da190719a0",
   "metadata": {},
   "outputs": [
    {
     "name": "stdout",
     "output_type": "stream",
     "text": [
      "[15:21:51] WARNING: src/objective/regression_obj.cu:152: reg:linear is now deprecated in favor of reg:squarederror.\n"
     ]
    },
    {
     "data": {
      "text/plain": [
       "Pipeline(steps=[('encoder',\n",
       "                 OrdinalEncoder(cols=['cat0', 'cat1', 'cat2', 'cat3', 'cat4',\n",
       "                                      'cat5', 'cat6', 'cat7', 'cat8', 'cat9'],\n",
       "                                handle_unknown='return_nan',\n",
       "                                mapping=[{'col': 'cat0',\n",
       "                                          'data_type': dtype('O'),\n",
       "                                          'mapping': A      1\n",
       "B      2\n",
       "NaN   -2\n",
       "dtype: int64},\n",
       "                                         {'col': 'cat1',\n",
       "                                          'data_type': dtype('O'),\n",
       "                                          'mapping': B      1\n",
       "A      2\n",
       "NaN   -2\n",
       "dtype: int64},\n",
       "                                         {'col': 'cat2',\n",
       "                                          'data_type': dtype('O'),\n",
       "                                          'mapping': A      1\n",
       "B      2\n",
       "NaN   -2...\n",
       "                                          'data_type': dtype('O'),\n",
       "                                          'mapping': A      1\n",
       "C      2\n",
       "B      3\n",
       "D      4\n",
       "I      5\n",
       "H      6\n",
       "E      7\n",
       "G      8\n",
       "NaN   -2\n",
       "dtype: int64},\n",
       "                                         {'col': 'cat7',\n",
       "                                          'data_type': dtype('O'),\n",
       "                                          'mapping': E      1\n",
       "B      2\n",
       "G      3\n",
       "D      4\n",
       "I      5\n",
       "F      6\n",
       "A      7\n",
       "C      8\n",
       "NaN   -2\n",
       "dtype: int64},\n",
       "                                         {'col': 'cat8',\n",
       "                                          'data_type': dtype('O'),\n",
       "                                          'mapping': E      1\n",
       "C      2\n",
       "A      3\n",
       "D      4\n",
       "G      5\n",
       "F      6\n",
       "B      7\n",
       "NaN   -2\n",
       "dtype: int64},\n",
       "                                         {'col': 'cat9',\n",
       "                                          'data_type': dtype('O'),\n",
       "                                          'mapping': I       1\n",
       "F       2\n",
       "J       3\n",
       "K       4\n",
       "G       5\n",
       "H       6\n",
       "A       7\n",
       "L       8\n",
       "N       9\n",
       "C      10\n",
       "M      11\n",
       "O      12\n",
       "E      13\n",
       "B      14\n",
       "D      15\n",
       "NaN    -2\n",
       "dtype: int64}])),\n",
       "                ('model', XGBRegressor())])"
      ]
     },
     "execution_count": 83,
     "metadata": {},
     "output_type": "execute_result"
    }
   ],
   "source": [
    "my_pipeline.fit(X_train, y_train)"
   ]
  },
  {
   "cell_type": "code",
   "execution_count": 85,
   "id": "16646386-aba1-4b1d-9958-29e39133ec32",
   "metadata": {},
   "outputs": [],
   "source": [
    "pred = my_pipeline.predict(X_valid)"
   ]
  },
  {
   "cell_type": "code",
   "execution_count": 86,
   "id": "aeffc0fd-4c88-414d-b1a1-f701f1a85403",
   "metadata": {},
   "outputs": [
    {
     "data": {
      "text/plain": [
       "0.5321496866739476"
      ]
     },
     "execution_count": 86,
     "metadata": {},
     "output_type": "execute_result"
    }
   ],
   "source": [
    "mean_squared_error(y_valid, pred)"
   ]
  },
  {
   "cell_type": "markdown",
   "id": "7471c8a7-b2d0-49c4-aba9-c867a289e727",
   "metadata": {},
   "source": [
    "# Numerical features"
   ]
  },
  {
   "cell_type": "code",
   "execution_count": 94,
   "id": "36c1bf3c-0682-43f8-93db-9517dd0fae4e",
   "metadata": {},
   "outputs": [
    {
     "data": {
      "text/plain": [
       "['cont0',\n",
       " 'cont1',\n",
       " 'cont2',\n",
       " 'cont3',\n",
       " 'cont4',\n",
       " 'cont5',\n",
       " 'cont6',\n",
       " 'cont7',\n",
       " 'cont8',\n",
       " 'cont9',\n",
       " 'cont10',\n",
       " 'cont11',\n",
       " 'cont12',\n",
       " 'cont13']"
      ]
     },
     "execution_count": 94,
     "metadata": {},
     "output_type": "execute_result"
    }
   ],
   "source": [
    "numerical_cols"
   ]
  },
  {
   "cell_type": "code",
   "execution_count": 150,
   "id": "f039c95b-27b9-473f-abf3-8912b67a05fe",
   "metadata": {},
   "outputs": [
    {
     "data": {
      "image/png": "[encoded data removed]",
      "text/plain": [
       "<Figure size 1440x360 with 14 Axes>"
      ]
     },
     "metadata": {
      "needs_background": "light"
     },
     "output_type": "display_data"
    }
   ],
   "source": [
    "# feature distribution of train data\n",
    "fig, axs = plt.subplots(2,7, figsize = (20,5))\n",
    "\n",
    "axs = axs.flatten()\n",
    "\n",
    "for idx, ax in enumerate(axs):\n",
    "    ax.hist(X_train[f'cont{idx}'], bins = 10)\n",
    "    ax.set_title(f'cont{idx}')\n",
    "    \n",
    "plt.tight_layout()\n",
    "plt.show()"
   ]
  },
  {
   "cell_type": "code",
   "execution_count": 119,
   "id": "79de7935-45ee-4995-8e0e-5f135546b679",
   "metadata": {},
   "outputs": [
    {
     "data": {
      "text/plain": [
       "<matplotlib.collections.PathCollection at 0x19b8f8590>"
      ]
     },
     "execution_count": 119,
     "metadata": {},
     "output_type": "execute_result"
    },
    {
     "data": {
      "image/png": "[encoded data removed]",
      "text/plain": [
       "<Figure size 432x288 with 1 Axes>"
      ]
     },
     "metadata": {
      "needs_background": "light"
     },
     "output_type": "display_data"
    }
   ],
   "source": [
    "plt.scatter(X_train['cont13'], y_train, alpha = 0.5, s = 0.5)"
   ]
  },
  {
   "cell_type": "code",
   "execution_count": 135,
   "id": "fa03f2cd-cc67-461a-b1c4-24a01e832d5b",
   "metadata": {},
   "outputs": [],
   "source": [
    "# feature correlation\n",
    "\n",
    "def correlation(df):\n",
    "    \n",
    "    # Create correlation matrix\n",
    "    corr_matrix = df.corr(method='spearman').abs()\n",
    "\n",
    "    # Select upper triangle of correlation matrix\n",
    "    upper = corr_matrix.where(np.triu(np.ones(corr_matrix.shape), k=1).astype(np.bool))\n",
    "\n",
    "    # Find features with correlation greater than 0.8\n",
    "    to_drop = [column for column in upper.columns if any(upper[column] > 0.8)]\n",
    "\n",
    "    # Drop features \n",
    "    df.drop(to_drop, axis=1, inplace=True)\n",
    "    \n",
    "    return df"
   ]
  },
  {
   "cell_type": "code",
   "execution_count": 152,
   "id": "0b6ef7f1-201d-449a-94eb-336ec9e8eea5",
   "metadata": {},
   "outputs": [],
   "source": [
    "# feature transformation in pipeline\n",
    "\n",
    "def log_transform(x):\n",
    "    return np.log1p(x)\n",
    "\n",
    "log_transformer = FunctionTransformer(log_transform)\n",
    "# use it as a normal transformer in a pipeline"
   ]
  }
 ],
 "metadata": {
  "kernelspec": {
   "display_name": "Python 3",
   "language": "python",
   "name": "python3"
  },
  "language_info": {
   "codemirror_mode": {
    "name": "ipython",
    "version": 3
   },
   "file_extension": ".py",
   "mimetype": "text/x-python",
   "name": "python",
   "nbconvert_exporter": "python",
   "pygments_lexer": "ipython3",
   "version": "3.7.10"
  }
 },
 "nbformat": 4,
 "nbformat_minor": 5
}
